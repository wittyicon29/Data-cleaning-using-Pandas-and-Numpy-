{
  "nbformat": 4,
  "nbformat_minor": 0,
  "metadata": {
    "colab": {
      "name": "KSP.ipynb",
      "provenance": [],
      "collapsed_sections": [],
      "mount_file_id": "1XNAQEHTrWXxuiqqx-KQq2ofPaka84xeH",
      "authorship_tag": "ABX9TyPWvzusIeTMgjOYaZH/yesG",
      "include_colab_link": true
    },
    "kernelspec": {
      "name": "python3",
      "display_name": "Python 3"
    },
    "language_info": {
      "name": "python"
    }
  },
  "cells": [
    {
      "cell_type": "markdown",
      "metadata": {
        "id": "view-in-github",
        "colab_type": "text"
      },
      "source": [
        "<a href=\"https://colab.research.google.com/github/wittyicon29/Data-cleaning-using-Pandas-and-Numpy-/blob/main/KSP.ipynb\" target=\"_parent\"><img src=\"https://colab.research.google.com/assets/colab-badge.svg\" alt=\"Open In Colab\"/></a>"
      ]
    },
    {
      "cell_type": "code",
      "execution_count": null,
      "metadata": {
        "id": "uWwO9YWZb_g2"
      },
      "outputs": [],
      "source": [
        "import pandas as pd\n",
        "import matplotlib.pyplot as plt\n",
        "import numpy as no\n",
        "import seaborn as sns\n",
        "import missingno as msno\n",
        "import datetime as dt\n",
        "from scipy.optimize import curve_fit"
      ]
    },
    {
      "cell_type": "code",
      "source": [
        "Cepheid_data = pd.read_csv('/content/drive/MyDrive/CepheidData.csv')"
      ],
      "metadata": {
        "id": "z4KO2-0ocgCS"
      },
      "execution_count": null,
      "outputs": []
    },
    {
      "cell_type": "code",
      "source": [
        "Cepheid_data.head()"
      ],
      "metadata": {
        "colab": {
          "base_uri": "https://localhost:8080/",
          "height": 531
        },
        "id": "bE_9KwrddtNw",
        "outputId": "3ba8d7f2-03a1-4163-9066-83b783959147"
      },
      "execution_count": null,
      "outputs": [
        {
          "output_type": "execute_result",
          "data": {
            "text/plain": [
              "                  ID           RA         Decl       I       V       P_1\n",
              "0  OGLE-SMC-CEP-0001  00:20:07.87  -74:32:54.6  17.314  17.897  1.128258\n",
              "1  OGLE-SMC-CEP-0005  00:21:53.88  -72:22:22.7  17.196  17.768  1.287411\n",
              "2  OGLE-SMC-CEP-0006  00:21:56.36  -73:54:55.9  17.120  17.770  1.484773\n",
              "3  OGLE-SMC-CEP-0007  00:22:04.27  -73:26:55.2  17.124 -99.990  1.334199\n",
              "4  OGLE-SMC-CEP-0009  00:22:25.60  -73:47:03.5  16.814  17.384  1.639233"
            ],
            "text/html": [
              "\n",
              "  <div id=\"df-5320e76e-4770-4405-a638-8e05bbd8b638\">\n",
              "    <div class=\"colab-df-container\">\n",
              "      <div>\n",
              "<style scoped>\n",
              "    .dataframe tbody tr th:only-of-type {\n",
              "        vertical-align: middle;\n",
              "    }\n",
              "\n",
              "    .dataframe tbody tr th {\n",
              "        vertical-align: top;\n",
              "    }\n",
              "\n",
              "    .dataframe thead th {\n",
              "        text-align: right;\n",
              "    }\n",
              "</style>\n",
              "<table border=\"1\" class=\"dataframe\">\n",
              "  <thead>\n",
              "    <tr style=\"text-align: right;\">\n",
              "      <th></th>\n",
              "      <th>ID</th>\n",
              "      <th>RA</th>\n",
              "      <th>Decl</th>\n",
              "      <th>I</th>\n",
              "      <th>V</th>\n",
              "      <th>P_1</th>\n",
              "    </tr>\n",
              "  </thead>\n",
              "  <tbody>\n",
              "    <tr>\n",
              "      <th>0</th>\n",
              "      <td>OGLE-SMC-CEP-0001</td>\n",
              "      <td>00:20:07.87</td>\n",
              "      <td>-74:32:54.6</td>\n",
              "      <td>17.314</td>\n",
              "      <td>17.897</td>\n",
              "      <td>1.128258</td>\n",
              "    </tr>\n",
              "    <tr>\n",
              "      <th>1</th>\n",
              "      <td>OGLE-SMC-CEP-0005</td>\n",
              "      <td>00:21:53.88</td>\n",
              "      <td>-72:22:22.7</td>\n",
              "      <td>17.196</td>\n",
              "      <td>17.768</td>\n",
              "      <td>1.287411</td>\n",
              "    </tr>\n",
              "    <tr>\n",
              "      <th>2</th>\n",
              "      <td>OGLE-SMC-CEP-0006</td>\n",
              "      <td>00:21:56.36</td>\n",
              "      <td>-73:54:55.9</td>\n",
              "      <td>17.120</td>\n",
              "      <td>17.770</td>\n",
              "      <td>1.484773</td>\n",
              "    </tr>\n",
              "    <tr>\n",
              "      <th>3</th>\n",
              "      <td>OGLE-SMC-CEP-0007</td>\n",
              "      <td>00:22:04.27</td>\n",
              "      <td>-73:26:55.2</td>\n",
              "      <td>17.124</td>\n",
              "      <td>-99.990</td>\n",
              "      <td>1.334199</td>\n",
              "    </tr>\n",
              "    <tr>\n",
              "      <th>4</th>\n",
              "      <td>OGLE-SMC-CEP-0009</td>\n",
              "      <td>00:22:25.60</td>\n",
              "      <td>-73:47:03.5</td>\n",
              "      <td>16.814</td>\n",
              "      <td>17.384</td>\n",
              "      <td>1.639233</td>\n",
              "    </tr>\n",
              "  </tbody>\n",
              "</table>\n",
              "</div>\n",
              "      <button class=\"colab-df-convert\" onclick=\"convertToInteractive('df-5320e76e-4770-4405-a638-8e05bbd8b638')\"\n",
              "              title=\"Convert this dataframe to an interactive table.\"\n",
              "              style=\"display:none;\">\n",
              "        \n",
              "  <svg xmlns=\"http://www.w3.org/2000/svg\" height=\"24px\"viewBox=\"0 0 24 24\"\n",
              "       width=\"24px\">\n",
              "    <path d=\"M0 0h24v24H0V0z\" fill=\"none\"/>\n",
              "    <path d=\"M18.56 5.44l.94 2.06.94-2.06 2.06-.94-2.06-.94-.94-2.06-.94 2.06-2.06.94zm-11 1L8.5 8.5l.94-2.06 2.06-.94-2.06-.94L8.5 2.5l-.94 2.06-2.06.94zm10 10l.94 2.06.94-2.06 2.06-.94-2.06-.94-.94-2.06-.94 2.06-2.06.94z\"/><path d=\"M17.41 7.96l-1.37-1.37c-.4-.4-.92-.59-1.43-.59-.52 0-1.04.2-1.43.59L10.3 9.45l-7.72 7.72c-.78.78-.78 2.05 0 2.83L4 21.41c.39.39.9.59 1.41.59.51 0 1.02-.2 1.41-.59l7.78-7.78 2.81-2.81c.8-.78.8-2.07 0-2.86zM5.41 20L4 18.59l7.72-7.72 1.47 1.35L5.41 20z\"/>\n",
              "  </svg>\n",
              "      </button>\n",
              "      \n",
              "  <style>\n",
              "    .colab-df-container {\n",
              "      display:flex;\n",
              "      flex-wrap:wrap;\n",
              "      gap: 12px;\n",
              "    }\n",
              "\n",
              "    .colab-df-convert {\n",
              "      background-color: #E8F0FE;\n",
              "      border: none;\n",
              "      border-radius: 50%;\n",
              "      cursor: pointer;\n",
              "      display: none;\n",
              "      fill: #1967D2;\n",
              "      height: 32px;\n",
              "      padding: 0 0 0 0;\n",
              "      width: 32px;\n",
              "    }\n",
              "\n",
              "    .colab-df-convert:hover {\n",
              "      background-color: #E2EBFA;\n",
              "      box-shadow: 0px 1px 2px rgba(60, 64, 67, 0.3), 0px 1px 3px 1px rgba(60, 64, 67, 0.15);\n",
              "      fill: #174EA6;\n",
              "    }\n",
              "\n",
              "    [theme=dark] .colab-df-convert {\n",
              "      background-color: #3B4455;\n",
              "      fill: #D2E3FC;\n",
              "    }\n",
              "\n",
              "    [theme=dark] .colab-df-convert:hover {\n",
              "      background-color: #434B5C;\n",
              "      box-shadow: 0px 1px 3px 1px rgba(0, 0, 0, 0.15);\n",
              "      filter: drop-shadow(0px 1px 2px rgba(0, 0, 0, 0.3));\n",
              "      fill: #FFFFFF;\n",
              "    }\n",
              "  </style>\n",
              "\n",
              "      <script>\n",
              "        const buttonEl =\n",
              "          document.querySelector('#df-5320e76e-4770-4405-a638-8e05bbd8b638 button.colab-df-convert');\n",
              "        buttonEl.style.display =\n",
              "          google.colab.kernel.accessAllowed ? 'block' : 'none';\n",
              "\n",
              "        async function convertToInteractive(key) {\n",
              "          const element = document.querySelector('#df-5320e76e-4770-4405-a638-8e05bbd8b638');\n",
              "          const dataTable =\n",
              "            await google.colab.kernel.invokeFunction('convertToInteractive',\n",
              "                                                     [key], {});\n",
              "          if (!dataTable) return;\n",
              "\n",
              "          const docLinkHtml = 'Like what you see? Visit the ' +\n",
              "            '<a target=\"_blank\" href=https://colab.research.google.com/notebooks/data_table.ipynb>data table notebook</a>'\n",
              "            + ' to learn more about interactive tables.';\n",
              "          element.innerHTML = '';\n",
              "          dataTable['output_type'] = 'display_data';\n",
              "          await google.colab.output.renderOutput(dataTable, element);\n",
              "          const docLink = document.createElement('div');\n",
              "          docLink.innerHTML = docLinkHtml;\n",
              "          element.appendChild(docLink);\n",
              "        }\n",
              "      </script>\n",
              "    </div>\n",
              "  </div>\n",
              "  "
            ]
          },
          "metadata": {},
          "execution_count": 6
        }
      ]
    },
    {
      "cell_type": "code",
      "source": [
        "Cepheid_data.info()"
      ],
      "metadata": {
        "colab": {
          "base_uri": "https://localhost:8080/"
        },
        "id": "-IWxY8n1e1Bx",
        "outputId": "38dd2491-435c-4e10-f5b6-48c84d3f533f"
      },
      "execution_count": null,
      "outputs": [
        {
          "output_type": "stream",
          "name": "stdout",
          "text": [
            "<class 'pandas.core.frame.DataFrame'>\n",
            "RangeIndex: 2754 entries, 0 to 2753\n",
            "Data columns (total 6 columns):\n",
            " #   Column  Non-Null Count  Dtype  \n",
            "---  ------  --------------  -----  \n",
            " 0   ID      2754 non-null   object \n",
            " 1   RA      2754 non-null   object \n",
            " 2   Decl    2754 non-null   object \n",
            " 3   I       2754 non-null   float64\n",
            " 4   V       2754 non-null   float64\n",
            " 5   P_1     2754 non-null   float64\n",
            "dtypes: float64(3), object(3)\n",
            "memory usage: 129.2+ KB\n"
          ]
        }
      ]
    },
    {
      "cell_type": "code",
      "source": [
        "Cepheid_data.isna().sum()"
      ],
      "metadata": {
        "colab": {
          "base_uri": "https://localhost:8080/"
        },
        "id": "FtBbqOH0fHwB",
        "outputId": "36a4a0c0-503e-48b8-ac5e-a4341ce261ad"
      },
      "execution_count": null,
      "outputs": [
        {
          "output_type": "execute_result",
          "data": {
            "text/plain": [
              "ID      0\n",
              "RA      0\n",
              "Decl    0\n",
              "I       0\n",
              "V       0\n",
              "P_1     0\n",
              "dtype: int64"
            ]
          },
          "metadata": {},
          "execution_count": 8
        }
      ]
    },
    {
      "cell_type": "code",
      "source": [
        "Cepheid_data.describe()"
      ],
      "metadata": {
        "colab": {
          "base_uri": "https://localhost:8080/",
          "height": 364
        },
        "id": "7pGgBnSKfa8w",
        "outputId": "10236b5b-c2c3-4de9-df41-06d19e6bfff9"
      },
      "execution_count": null,
      "outputs": [
        {
          "output_type": "execute_result",
          "data": {
            "text/plain": [
              "                 I            V          P_1\n",
              "count  2754.000000  2754.000000  2754.000000\n",
              "mean     16.041644    12.095656     3.488015\n",
              "std       4.526668    23.205550     6.718705\n",
              "min     -99.990000   -99.990000     0.841853\n",
              "25%      15.674250    16.254750     1.482445\n",
              "50%      16.486000    17.076000     1.944269\n",
              "75%      16.886000    17.516000     3.351994\n",
              "max      18.070000    19.015000   208.799217"
            ],
            "text/html": [
              "\n",
              "  <div id=\"df-6f22bcbe-7cd6-412a-9b22-c9892516609d\">\n",
              "    <div class=\"colab-df-container\">\n",
              "      <div>\n",
              "<style scoped>\n",
              "    .dataframe tbody tr th:only-of-type {\n",
              "        vertical-align: middle;\n",
              "    }\n",
              "\n",
              "    .dataframe tbody tr th {\n",
              "        vertical-align: top;\n",
              "    }\n",
              "\n",
              "    .dataframe thead th {\n",
              "        text-align: right;\n",
              "    }\n",
              "</style>\n",
              "<table border=\"1\" class=\"dataframe\">\n",
              "  <thead>\n",
              "    <tr style=\"text-align: right;\">\n",
              "      <th></th>\n",
              "      <th>I</th>\n",
              "      <th>V</th>\n",
              "      <th>P_1</th>\n",
              "    </tr>\n",
              "  </thead>\n",
              "  <tbody>\n",
              "    <tr>\n",
              "      <th>count</th>\n",
              "      <td>2754.000000</td>\n",
              "      <td>2754.000000</td>\n",
              "      <td>2754.000000</td>\n",
              "    </tr>\n",
              "    <tr>\n",
              "      <th>mean</th>\n",
              "      <td>16.041644</td>\n",
              "      <td>12.095656</td>\n",
              "      <td>3.488015</td>\n",
              "    </tr>\n",
              "    <tr>\n",
              "      <th>std</th>\n",
              "      <td>4.526668</td>\n",
              "      <td>23.205550</td>\n",
              "      <td>6.718705</td>\n",
              "    </tr>\n",
              "    <tr>\n",
              "      <th>min</th>\n",
              "      <td>-99.990000</td>\n",
              "      <td>-99.990000</td>\n",
              "      <td>0.841853</td>\n",
              "    </tr>\n",
              "    <tr>\n",
              "      <th>25%</th>\n",
              "      <td>15.674250</td>\n",
              "      <td>16.254750</td>\n",
              "      <td>1.482445</td>\n",
              "    </tr>\n",
              "    <tr>\n",
              "      <th>50%</th>\n",
              "      <td>16.486000</td>\n",
              "      <td>17.076000</td>\n",
              "      <td>1.944269</td>\n",
              "    </tr>\n",
              "    <tr>\n",
              "      <th>75%</th>\n",
              "      <td>16.886000</td>\n",
              "      <td>17.516000</td>\n",
              "      <td>3.351994</td>\n",
              "    </tr>\n",
              "    <tr>\n",
              "      <th>max</th>\n",
              "      <td>18.070000</td>\n",
              "      <td>19.015000</td>\n",
              "      <td>208.799217</td>\n",
              "    </tr>\n",
              "  </tbody>\n",
              "</table>\n",
              "</div>\n",
              "      <button class=\"colab-df-convert\" onclick=\"convertToInteractive('df-6f22bcbe-7cd6-412a-9b22-c9892516609d')\"\n",
              "              title=\"Convert this dataframe to an interactive table.\"\n",
              "              style=\"display:none;\">\n",
              "        \n",
              "  <svg xmlns=\"http://www.w3.org/2000/svg\" height=\"24px\"viewBox=\"0 0 24 24\"\n",
              "       width=\"24px\">\n",
              "    <path d=\"M0 0h24v24H0V0z\" fill=\"none\"/>\n",
              "    <path d=\"M18.56 5.44l.94 2.06.94-2.06 2.06-.94-2.06-.94-.94-2.06-.94 2.06-2.06.94zm-11 1L8.5 8.5l.94-2.06 2.06-.94-2.06-.94L8.5 2.5l-.94 2.06-2.06.94zm10 10l.94 2.06.94-2.06 2.06-.94-2.06-.94-.94-2.06-.94 2.06-2.06.94z\"/><path d=\"M17.41 7.96l-1.37-1.37c-.4-.4-.92-.59-1.43-.59-.52 0-1.04.2-1.43.59L10.3 9.45l-7.72 7.72c-.78.78-.78 2.05 0 2.83L4 21.41c.39.39.9.59 1.41.59.51 0 1.02-.2 1.41-.59l7.78-7.78 2.81-2.81c.8-.78.8-2.07 0-2.86zM5.41 20L4 18.59l7.72-7.72 1.47 1.35L5.41 20z\"/>\n",
              "  </svg>\n",
              "      </button>\n",
              "      \n",
              "  <style>\n",
              "    .colab-df-container {\n",
              "      display:flex;\n",
              "      flex-wrap:wrap;\n",
              "      gap: 12px;\n",
              "    }\n",
              "\n",
              "    .colab-df-convert {\n",
              "      background-color: #E8F0FE;\n",
              "      border: none;\n",
              "      border-radius: 50%;\n",
              "      cursor: pointer;\n",
              "      display: none;\n",
              "      fill: #1967D2;\n",
              "      height: 32px;\n",
              "      padding: 0 0 0 0;\n",
              "      width: 32px;\n",
              "    }\n",
              "\n",
              "    .colab-df-convert:hover {\n",
              "      background-color: #E2EBFA;\n",
              "      box-shadow: 0px 1px 2px rgba(60, 64, 67, 0.3), 0px 1px 3px 1px rgba(60, 64, 67, 0.15);\n",
              "      fill: #174EA6;\n",
              "    }\n",
              "\n",
              "    [theme=dark] .colab-df-convert {\n",
              "      background-color: #3B4455;\n",
              "      fill: #D2E3FC;\n",
              "    }\n",
              "\n",
              "    [theme=dark] .colab-df-convert:hover {\n",
              "      background-color: #434B5C;\n",
              "      box-shadow: 0px 1px 3px 1px rgba(0, 0, 0, 0.15);\n",
              "      filter: drop-shadow(0px 1px 2px rgba(0, 0, 0, 0.3));\n",
              "      fill: #FFFFFF;\n",
              "    }\n",
              "  </style>\n",
              "\n",
              "      <script>\n",
              "        const buttonEl =\n",
              "          document.querySelector('#df-6f22bcbe-7cd6-412a-9b22-c9892516609d button.colab-df-convert');\n",
              "        buttonEl.style.display =\n",
              "          google.colab.kernel.accessAllowed ? 'block' : 'none';\n",
              "\n",
              "        async function convertToInteractive(key) {\n",
              "          const element = document.querySelector('#df-6f22bcbe-7cd6-412a-9b22-c9892516609d');\n",
              "          const dataTable =\n",
              "            await google.colab.kernel.invokeFunction('convertToInteractive',\n",
              "                                                     [key], {});\n",
              "          if (!dataTable) return;\n",
              "\n",
              "          const docLinkHtml = 'Like what you see? Visit the ' +\n",
              "            '<a target=\"_blank\" href=https://colab.research.google.com/notebooks/data_table.ipynb>data table notebook</a>'\n",
              "            + ' to learn more about interactive tables.';\n",
              "          element.innerHTML = '';\n",
              "          dataTable['output_type'] = 'display_data';\n",
              "          await google.colab.output.renderOutput(dataTable, element);\n",
              "          const docLink = document.createElement('div');\n",
              "          docLink.innerHTML = docLinkHtml;\n",
              "          element.appendChild(docLink);\n",
              "        }\n",
              "      </script>\n",
              "    </div>\n",
              "  </div>\n",
              "  "
            ]
          },
          "metadata": {},
          "execution_count": 9
        }
      ]
    },
    {
      "cell_type": "code",
      "source": [
        "sns.displot(Cepheid_data['I'],bins =20)\n",
        "plt.title('Values of I')\n",
        "plt.show"
      ],
      "metadata": {
        "colab": {
          "base_uri": "https://localhost:8080/",
          "height": 372
        },
        "id": "jRXLvba6gDj5",
        "outputId": "97e7941a-e3d9-431f-97be-c8a528e5e2dc"
      },
      "execution_count": null,
      "outputs": [
        {
          "output_type": "execute_result",
          "data": {
            "text/plain": [
              "<function matplotlib.pyplot.show>"
            ]
          },
          "metadata": {},
          "execution_count": 10
        },
        {
          "output_type": "display_data",
          "data": {
            "text/plain": [
              "<Figure size 360x360 with 1 Axes>"
            ],
            "image/png": "[encoded data removed]"
          },
          "metadata": {
            "needs_background": "light"
          }
        }
      ]
    },
    {
      "cell_type": "code",
      "source": [
        "sns.displot(Cepheid_data['V'],bins =20)\n",
        "plt.title('Values of V')\n",
        "plt.show"
      ],
      "metadata": {
        "colab": {
          "base_uri": "https://localhost:8080/",
          "height": 372
        },
        "id": "nHjMqvvQg-nB",
        "outputId": "5bc901d0-dc57-4370-977a-1ab8459c2b07"
      },
      "execution_count": null,
      "outputs": [
        {
          "output_type": "execute_result",
          "data": {
            "text/plain": [
              "<function matplotlib.pyplot.show>"
            ]
          },
          "metadata": {},
          "execution_count": 11
        },
        {
          "output_type": "display_data",
          "data": {
            "text/plain": [
              "<Figure size 360x360 with 1 Axes>"
            ],
            "image/png": "[encoded data removed]"
          },
          "metadata": {
            "needs_background": "light"
          }
        }
      ]
    },
    {
      "cell_type": "code",
      "source": [
        "sns.displot(Cepheid_data['P_1'],bins =20)\n",
        "plt.title('Values of P_1')\n",
        "plt.show"
      ],
      "metadata": {
        "colab": {
          "base_uri": "https://localhost:8080/",
          "height": 372
        },
        "id": "KLWvFwE7hTWj",
        "outputId": "88aea2ca-4eee-4fe9-d177-efe75e194e98"
      },
      "execution_count": null,
      "outputs": [
        {
          "output_type": "execute_result",
          "data": {
            "text/plain": [
              "<function matplotlib.pyplot.show>"
            ]
          },
          "metadata": {},
          "execution_count": 12
        },
        {
          "output_type": "display_data",
          "data": {
            "text/plain": [
              "<Figure size 360x360 with 1 Axes>"
            ],
            "image/png": "[encoded data removed]"
          },
          "metadata": {
            "needs_background": "light"
          }
        }
      ]
    },
    {
      "cell_type": "code",
      "source": [
        "Cepheid_data['I'].unique()"
      ],
      "metadata": {
        "colab": {
          "base_uri": "https://localhost:8080/"
        },
        "id": "TmNMOcCchcHA",
        "outputId": "ba2d0dee-6f8b-4d91-de8d-2c8d6b4f1c93"
      },
      "execution_count": null,
      "outputs": [
        {
          "output_type": "execute_result",
          "data": {
            "text/plain": [
              "array([17.314, 17.196, 17.12 , ..., 14.063, 13.48 , 15.738])"
            ]
          },
          "metadata": {},
          "execution_count": 13
        }
      ]
    },
    {
      "cell_type": "code",
      "source": [
        "Cepheid_data['V'].unique()"
      ],
      "metadata": {
        "colab": {
          "base_uri": "https://localhost:8080/"
        },
        "id": "GxFWFYTqhiQG",
        "outputId": "570d7de1-4080-4e9c-a060-c43c2d22a21d"
      },
      "execution_count": null,
      "outputs": [
        {
          "output_type": "execute_result",
          "data": {
            "text/plain": [
              "array([17.897, 17.768, 17.77 , ..., 15.834, 14.929, 16.458])"
            ]
          },
          "metadata": {},
          "execution_count": 14
        }
      ]
    },
    {
      "cell_type": "code",
      "source": [
        "Cepheid_data['P_1'].unique()"
      ],
      "metadata": {
        "colab": {
          "base_uri": "https://localhost:8080/"
        },
        "id": "zG46xmb3hmEY",
        "outputId": "4a7fb8c8-927d-4ee8-9d40-9f36542efc8f"
      },
      "execution_count": null,
      "outputs": [
        {
          "output_type": "execute_result",
          "data": {
            "text/plain": [
              "array([ 1.1282584,  1.2874115,  1.4847727, ..., 16.4303732,  2.9284749,\n",
              "        1.0040427])"
            ]
          },
          "metadata": {},
          "execution_count": 15
        }
      ]
    },
    {
      "cell_type": "code",
      "source": [
        "Cepheid_data['I'].value_counts()"
      ],
      "metadata": {
        "colab": {
          "base_uri": "https://localhost:8080/"
        },
        "id": "kyHqBCRehpRk",
        "outputId": "c6249171-b8c9-46bd-af1e-cd311cd23eba"
      },
      "execution_count": null,
      "outputs": [
        {
          "output_type": "execute_result",
          "data": {
            "text/plain": [
              "16.788    7\n",
              "16.931    6\n",
              "16.768    6\n",
              "16.814    6\n",
              "16.696    6\n",
              "         ..\n",
              "16.357    1\n",
              "14.270    1\n",
              "12.731    1\n",
              "17.149    1\n",
              "15.738    1\n",
              "Name: I, Length: 1753, dtype: int64"
            ]
          },
          "metadata": {},
          "execution_count": 16
        }
      ]
    },
    {
      "cell_type": "code",
      "source": [
        "Cepheid_data['V'].value_counts()"
      ],
      "metadata": {
        "colab": {
          "base_uri": "https://localhost:8080/"
        },
        "id": "X96m5zxZh2aB",
        "outputId": "42872153-ae69-4678-e0d1-4a7ff5cb5566"
      },
      "execution_count": null,
      "outputs": [
        {
          "output_type": "execute_result",
          "data": {
            "text/plain": [
              "-99.990    113\n",
              " 17.295      6\n",
              " 17.076      6\n",
              " 17.529      6\n",
              " 17.383      6\n",
              "          ... \n",
              " 16.195      1\n",
              " 15.520      1\n",
              " 17.186      1\n",
              " 16.987      1\n",
              " 16.458      1\n",
              "Name: V, Length: 1719, dtype: int64"
            ]
          },
          "metadata": {},
          "execution_count": 17
        }
      ]
    },
    {
      "cell_type": "code",
      "source": [
        "Cepheid_data['P_1'].value_counts()"
      ],
      "metadata": {
        "colab": {
          "base_uri": "https://localhost:8080/"
        },
        "id": "-OMuqXbKh6hD",
        "outputId": "761e529e-ed0c-4c84-852a-411f6615e700"
      },
      "execution_count": null,
      "outputs": [
        {
          "output_type": "execute_result",
          "data": {
            "text/plain": [
              "1.128258    1\n",
              "1.275806    1\n",
              "1.124129    1\n",
              "1.531928    1\n",
              "3.384428    1\n",
              "           ..\n",
              "1.011673    1\n",
              "1.164590    1\n",
              "2.899468    1\n",
              "2.608594    1\n",
              "1.004043    1\n",
              "Name: P_1, Length: 2754, dtype: int64"
            ]
          },
          "metadata": {},
          "execution_count": 18
        }
      ]
    },
    {
      "cell_type": "code",
      "source": [
        "#Removing erroneous magnitude values \n",
        "Cepheid_data = Cepheid_data[(Cepheid_data['V']!=-99.990) & (Cepheid_data['I']!=-99.990)]\n",
        "Cepheid_data"
      ],
      "metadata": {
        "colab": {
          "base_uri": "https://localhost:8080/",
          "height": 1000
        },
        "id": "oJgz0spyoSGY",
        "outputId": "79f57f1a-0dcc-43b5-c1fa-6b84b5a8a7d8"
      },
      "execution_count": null,
      "outputs": [
        {
          "output_type": "execute_result",
          "data": {
            "text/plain": [
              "                     ID           RA         Decl       I       V       P_1\n",
              "0     OGLE-SMC-CEP-0001  00:20:07.87  -74:32:54.6  17.314  17.897  1.128258\n",
              "1     OGLE-SMC-CEP-0005  00:21:53.88  -72:22:22.7  17.196  17.768  1.287411\n",
              "2     OGLE-SMC-CEP-0006  00:21:56.36  -73:54:55.9  17.120  17.770  1.484773\n",
              "4     OGLE-SMC-CEP-0009  00:22:25.60  -73:47:03.5  16.814  17.384  1.639233\n",
              "5     OGLE-SMC-CEP-0010  00:22:29.29  -73:54:16.3  16.976  17.515  1.442611\n",
              "...                 ...          ...          ...     ...     ...       ...\n",
              "2741  OGLE-SMC-CEP-4967  00:56:34.60  -77:55:13.2  17.328  18.067  1.012830\n",
              "2749  OGLE-SMC-CEP-4983  01:50:40.50  -70:30:13.0  15.224  15.834  4.372303\n",
              "2750  OGLE-SMC-CEP-4985  01:56:47.74  -73:49:37.1  14.063  14.929  8.040087\n",
              "2752  OGLE-SMC-CEP-4987  03:31:34.40  -70:59:38.2  15.738  16.458  2.928475\n",
              "2753  OGLE-SMC-CEP-4988  00:48:12.68  -74:45:35.0  17.267  17.903  1.004043\n",
              "\n",
              "[2637 rows x 6 columns]"
            ],
            "text/html": [
              "\n",
              "  <div id=\"df-e3ddc360-e341-44cb-ad67-2406a7b1bcfa\">\n",
              "    <div class=\"colab-df-container\">\n",
              "      <div>\n",
              "<style scoped>\n",
              "    .dataframe tbody tr th:only-of-type {\n",
              "        vertical-align: middle;\n",
              "    }\n",
              "\n",
              "    .dataframe tbody tr th {\n",
              "        vertical-align: top;\n",
              "    }\n",
              "\n",
              "    .dataframe thead th {\n",
              "        text-align: right;\n",
              "    }\n",
              "</style>\n",
              "<table border=\"1\" class=\"dataframe\">\n",
              "  <thead>\n",
              "    <tr style=\"text-align: right;\">\n",
              "      <th></th>\n",
              "      <th>ID</th>\n",
              "      <th>RA</th>\n",
              "      <th>Decl</th>\n",
              "      <th>I</th>\n",
              "      <th>V</th>\n",
              "      <th>P_1</th>\n",
              "    </tr>\n",
              "  </thead>\n",
              "  <tbody>\n",
              "    <tr>\n",
              "      <th>0</th>\n",
              "      <td>OGLE-SMC-CEP-0001</td>\n",
              "      <td>00:20:07.87</td>\n",
              "      <td>-74:32:54.6</td>\n",
              "      <td>17.314</td>\n",
              "      <td>17.897</td>\n",
              "      <td>1.128258</td>\n",
              "    </tr>\n",
              "    <tr>\n",
              "      <th>1</th>\n",
              "      <td>OGLE-SMC-CEP-0005</td>\n",
              "      <td>00:21:53.88</td>\n",
              "      <td>-72:22:22.7</td>\n",
              "      <td>17.196</td>\n",
              "      <td>17.768</td>\n",
              "      <td>1.287411</td>\n",
              "    </tr>\n",
              "    <tr>\n",
              "      <th>2</th>\n",
              "      <td>OGLE-SMC-CEP-0006</td>\n",
              "      <td>00:21:56.36</td>\n",
              "      <td>-73:54:55.9</td>\n",
              "      <td>17.120</td>\n",
              "      <td>17.770</td>\n",
              "      <td>1.484773</td>\n",
              "    </tr>\n",
              "    <tr>\n",
              "      <th>4</th>\n",
              "      <td>OGLE-SMC-CEP-0009</td>\n",
              "      <td>00:22:25.60</td>\n",
              "      <td>-73:47:03.5</td>\n",
              "      <td>16.814</td>\n",
              "      <td>17.384</td>\n",
              "      <td>1.639233</td>\n",
              "    </tr>\n",
              "    <tr>\n",
              "      <th>5</th>\n",
              "      <td>OGLE-SMC-CEP-0010</td>\n",
              "      <td>00:22:29.29</td>\n",
              "      <td>-73:54:16.3</td>\n",
              "      <td>16.976</td>\n",
              "      <td>17.515</td>\n",
              "      <td>1.442611</td>\n",
              "    </tr>\n",
              "    <tr>\n",
              "      <th>...</th>\n",
              "      <td>...</td>\n",
              "      <td>...</td>\n",
              "      <td>...</td>\n",
              "      <td>...</td>\n",
              "      <td>...</td>\n",
              "      <td>...</td>\n",
              "    </tr>\n",
              "    <tr>\n",
              "      <th>2741</th>\n",
              "      <td>OGLE-SMC-CEP-4967</td>\n",
              "      <td>00:56:34.60</td>\n",
              "      <td>-77:55:13.2</td>\n",
              "      <td>17.328</td>\n",
              "      <td>18.067</td>\n",
              "      <td>1.012830</td>\n",
              "    </tr>\n",
              "    <tr>\n",
              "      <th>2749</th>\n",
              "      <td>OGLE-SMC-CEP-4983</td>\n",
              "      <td>01:50:40.50</td>\n",
              "      <td>-70:30:13.0</td>\n",
              "      <td>15.224</td>\n",
              "      <td>15.834</td>\n",
              "      <td>4.372303</td>\n",
              "    </tr>\n",
              "    <tr>\n",
              "      <th>2750</th>\n",
              "      <td>OGLE-SMC-CEP-4985</td>\n",
              "      <td>01:56:47.74</td>\n",
              "      <td>-73:49:37.1</td>\n",
              "      <td>14.063</td>\n",
              "      <td>14.929</td>\n",
              "      <td>8.040087</td>\n",
              "    </tr>\n",
              "    <tr>\n",
              "      <th>2752</th>\n",
              "      <td>OGLE-SMC-CEP-4987</td>\n",
              "      <td>03:31:34.40</td>\n",
              "      <td>-70:59:38.2</td>\n",
              "      <td>15.738</td>\n",
              "      <td>16.458</td>\n",
              "      <td>2.928475</td>\n",
              "    </tr>\n",
              "    <tr>\n",
              "      <th>2753</th>\n",
              "      <td>OGLE-SMC-CEP-4988</td>\n",
              "      <td>00:48:12.68</td>\n",
              "      <td>-74:45:35.0</td>\n",
              "      <td>17.267</td>\n",
              "      <td>17.903</td>\n",
              "      <td>1.004043</td>\n",
              "    </tr>\n",
              "  </tbody>\n",
              "</table>\n",
              "<p>2637 rows × 6 columns</p>\n",
              "</div>\n",
              "      <button class=\"colab-df-convert\" onclick=\"convertToInteractive('df-e3ddc360-e341-44cb-ad67-2406a7b1bcfa')\"\n",
              "              title=\"Convert this dataframe to an interactive table.\"\n",
              "              style=\"display:none;\">\n",
              "        \n",
              "  <svg xmlns=\"http://www.w3.org/2000/svg\" height=\"24px\"viewBox=\"0 0 24 24\"\n",
              "       width=\"24px\">\n",
              "    <path d=\"M0 0h24v24H0V0z\" fill=\"none\"/>\n",
              "    <path d=\"M18.56 5.44l.94 2.06.94-2.06 2.06-.94-2.06-.94-.94-2.06-.94 2.06-2.06.94zm-11 1L8.5 8.5l.94-2.06 2.06-.94-2.06-.94L8.5 2.5l-.94 2.06-2.06.94zm10 10l.94 2.06.94-2.06 2.06-.94-2.06-.94-.94-2.06-.94 2.06-2.06.94z\"/><path d=\"M17.41 7.96l-1.37-1.37c-.4-.4-.92-.59-1.43-.59-.52 0-1.04.2-1.43.59L10.3 9.45l-7.72 7.72c-.78.78-.78 2.05 0 2.83L4 21.41c.39.39.9.59 1.41.59.51 0 1.02-.2 1.41-.59l7.78-7.78 2.81-2.81c.8-.78.8-2.07 0-2.86zM5.41 20L4 18.59l7.72-7.72 1.47 1.35L5.41 20z\"/>\n",
              "  </svg>\n",
              "      </button>\n",
              "      \n",
              "  <style>\n",
              "    .colab-df-container {\n",
              "      display:flex;\n",
              "      flex-wrap:wrap;\n",
              "      gap: 12px;\n",
              "    }\n",
              "\n",
              "    .colab-df-convert {\n",
              "      background-color: #E8F0FE;\n",
              "      border: none;\n",
              "      border-radius: 50%;\n",
              "      cursor: pointer;\n",
              "      display: none;\n",
              "      fill: #1967D2;\n",
              "      height: 32px;\n",
              "      padding: 0 0 0 0;\n",
              "      width: 32px;\n",
              "    }\n",
              "\n",
              "    .colab-df-convert:hover {\n",
              "      background-color: #E2EBFA;\n",
              "      box-shadow: 0px 1px 2px rgba(60, 64, 67, 0.3), 0px 1px 3px 1px rgba(60, 64, 67, 0.15);\n",
              "      fill: #174EA6;\n",
              "    }\n",
              "\n",
              "    [theme=dark] .colab-df-convert {\n",
              "      background-color: #3B4455;\n",
              "      fill: #D2E3FC;\n",
              "    }\n",
              "\n",
              "    [theme=dark] .colab-df-convert:hover {\n",
              "      background-color: #434B5C;\n",
              "      box-shadow: 0px 1px 3px 1px rgba(0, 0, 0, 0.15);\n",
              "      filter: drop-shadow(0px 1px 2px rgba(0, 0, 0, 0.3));\n",
              "      fill: #FFFFFF;\n",
              "    }\n",
              "  </style>\n",
              "\n",
              "      <script>\n",
              "        const buttonEl =\n",
              "          document.querySelector('#df-e3ddc360-e341-44cb-ad67-2406a7b1bcfa button.colab-df-convert');\n",
              "        buttonEl.style.display =\n",
              "          google.colab.kernel.accessAllowed ? 'block' : 'none';\n",
              "\n",
              "        async function convertToInteractive(key) {\n",
              "          const element = document.querySelector('#df-e3ddc360-e341-44cb-ad67-2406a7b1bcfa');\n",
              "          const dataTable =\n",
              "            await google.colab.kernel.invokeFunction('convertToInteractive',\n",
              "                                                     [key], {});\n",
              "          if (!dataTable) return;\n",
              "\n",
              "          const docLinkHtml = 'Like what you see? Visit the ' +\n",
              "            '<a target=\"_blank\" href=https://colab.research.google.com/notebooks/data_table.ipynb>data table notebook</a>'\n",
              "            + ' to learn more about interactive tables.';\n",
              "          element.innerHTML = '';\n",
              "          dataTable['output_type'] = 'display_data';\n",
              "          await google.colab.output.renderOutput(dataTable, element);\n",
              "          const docLink = document.createElement('div');\n",
              "          docLink.innerHTML = docLinkHtml;\n",
              "          element.appendChild(docLink);\n",
              "        }\n",
              "      </script>\n",
              "    </div>\n",
              "  </div>\n",
              "  "
            ]
          },
          "metadata": {},
          "execution_count": 19
        }
      ]
    },
    {
      "cell_type": "code",
      "source": [
        "#HMS & DMS to degrees\n",
        "ra = Cepheid_data['RA'].str.split(pat = ':', expand = True)\n",
        "ra[0], ra[1], ra[2] = pd.to_numeric(ra[0]), pd.to_numeric(ra[1]), pd.to_numeric(ra[2])\n",
        "ra[4] = 15 * ra[0] + 15 * ra[1] / 60 + 15 * ra[2] / 3600\n",
        "\n",
        "dec = Cepheid_data['Decl'].str.split(pat = ':', expand = True)\n",
        "dec[0], dec[1], dec[2] = pd.to_numeric(dec[0]), pd.to_numeric(dec[1]), pd.to_numeric(dec[2])\n",
        "print('Declination stats:\\n',dec[0].describe()) #Notice all values are negative\n",
        "dec[4] = dec[0] - dec[1] / 60 - dec[2] / 3600   #So this conversion can be used\n",
        "\n",
        "Cepheid_data['ra'], Cepheid_data['dec'] = ra[4], dec[4]\n",
        "Cepheid_data"
      ],
      "metadata": {
        "colab": {
          "base_uri": "https://localhost:8080/",
          "height": 1000
        },
        "id": "0V7UHDwrpEu_",
        "outputId": "77ba3092-bedc-49cf-d937-82be1aa2f9f6"
      },
      "execution_count": null,
      "outputs": [
        {
          "output_type": "stream",
          "name": "stdout",
          "text": [
            "Declination stats:\n",
            " count    2637.000000\n",
            "mean      -72.487296\n",
            "std         0.853188\n",
            "min       -77.000000\n",
            "25%       -73.000000\n",
            "50%       -73.000000\n",
            "75%       -72.000000\n",
            "max       -64.000000\n",
            "Name: 0, dtype: float64\n"
          ]
        },
        {
          "output_type": "execute_result",
          "data": {
            "text/plain": [
              "                     ID           RA         Decl       I       V       P_1  \\\n",
              "0     OGLE-SMC-CEP-0001  00:20:07.87  -74:32:54.6  17.314  17.897  1.128258   \n",
              "1     OGLE-SMC-CEP-0005  00:21:53.88  -72:22:22.7  17.196  17.768  1.287411   \n",
              "2     OGLE-SMC-CEP-0006  00:21:56.36  -73:54:55.9  17.120  17.770  1.484773   \n",
              "4     OGLE-SMC-CEP-0009  00:22:25.60  -73:47:03.5  16.814  17.384  1.639233   \n",
              "5     OGLE-SMC-CEP-0010  00:22:29.29  -73:54:16.3  16.976  17.515  1.442611   \n",
              "...                 ...          ...          ...     ...     ...       ...   \n",
              "2741  OGLE-SMC-CEP-4967  00:56:34.60  -77:55:13.2  17.328  18.067  1.012830   \n",
              "2749  OGLE-SMC-CEP-4983  01:50:40.50  -70:30:13.0  15.224  15.834  4.372303   \n",
              "2750  OGLE-SMC-CEP-4985  01:56:47.74  -73:49:37.1  14.063  14.929  8.040087   \n",
              "2752  OGLE-SMC-CEP-4987  03:31:34.40  -70:59:38.2  15.738  16.458  2.928475   \n",
              "2753  OGLE-SMC-CEP-4988  00:48:12.68  -74:45:35.0  17.267  17.903  1.004043   \n",
              "\n",
              "             ra        dec  \n",
              "0      5.032792 -74.548500  \n",
              "1      5.474500 -72.372972  \n",
              "2      5.484833 -73.915528  \n",
              "4      5.606667 -73.784306  \n",
              "5      5.622042 -73.904528  \n",
              "...         ...        ...  \n",
              "2741  14.144167 -77.920333  \n",
              "2749  27.668750 -70.503611  \n",
              "2750  29.198917 -73.826972  \n",
              "2752  52.893333 -70.993944  \n",
              "2753  12.052833 -74.759722  \n",
              "\n",
              "[2637 rows x 8 columns]"
            ],
            "text/html": [
              "\n",
              "  <div id=\"df-c0618141-e507-4343-b978-bbe1fefe1d59\">\n",
              "    <div class=\"colab-df-container\">\n",
              "      <div>\n",
              "<style scoped>\n",
              "    .dataframe tbody tr th:only-of-type {\n",
              "        vertical-align: middle;\n",
              "    }\n",
              "\n",
              "    .dataframe tbody tr th {\n",
              "        vertical-align: top;\n",
              "    }\n",
              "\n",
              "    .dataframe thead th {\n",
              "        text-align: right;\n",
              "    }\n",
              "</style>\n",
              "<table border=\"1\" class=\"dataframe\">\n",
              "  <thead>\n",
              "    <tr style=\"text-align: right;\">\n",
              "      <th></th>\n",
              "      <th>ID</th>\n",
              "      <th>RA</th>\n",
              "      <th>Decl</th>\n",
              "      <th>I</th>\n",
              "      <th>V</th>\n",
              "      <th>P_1</th>\n",
              "      <th>ra</th>\n",
              "      <th>dec</th>\n",
              "    </tr>\n",
              "  </thead>\n",
              "  <tbody>\n",
              "    <tr>\n",
              "      <th>0</th>\n",
              "      <td>OGLE-SMC-CEP-0001</td>\n",
              "      <td>00:20:07.87</td>\n",
              "      <td>-74:32:54.6</td>\n",
              "      <td>17.314</td>\n",
              "      <td>17.897</td>\n",
              "      <td>1.128258</td>\n",
              "      <td>5.032792</td>\n",
              "      <td>-74.548500</td>\n",
              "    </tr>\n",
              "    <tr>\n",
              "      <th>1</th>\n",
              "      <td>OGLE-SMC-CEP-0005</td>\n",
              "      <td>00:21:53.88</td>\n",
              "      <td>-72:22:22.7</td>\n",
              "      <td>17.196</td>\n",
              "      <td>17.768</td>\n",
              "      <td>1.287411</td>\n",
              "      <td>5.474500</td>\n",
              "      <td>-72.372972</td>\n",
              "    </tr>\n",
              "    <tr>\n",
              "      <th>2</th>\n",
              "      <td>OGLE-SMC-CEP-0006</td>\n",
              "      <td>00:21:56.36</td>\n",
              "      <td>-73:54:55.9</td>\n",
              "      <td>17.120</td>\n",
              "      <td>17.770</td>\n",
              "      <td>1.484773</td>\n",
              "      <td>5.484833</td>\n",
              "      <td>-73.915528</td>\n",
              "    </tr>\n",
              "    <tr>\n",
              "      <th>4</th>\n",
              "      <td>OGLE-SMC-CEP-0009</td>\n",
              "      <td>00:22:25.60</td>\n",
              "      <td>-73:47:03.5</td>\n",
              "      <td>16.814</td>\n",
              "      <td>17.384</td>\n",
              "      <td>1.639233</td>\n",
              "      <td>5.606667</td>\n",
              "      <td>-73.784306</td>\n",
              "    </tr>\n",
              "    <tr>\n",
              "      <th>5</th>\n",
              "      <td>OGLE-SMC-CEP-0010</td>\n",
              "      <td>00:22:29.29</td>\n",
              "      <td>-73:54:16.3</td>\n",
              "      <td>16.976</td>\n",
              "      <td>17.515</td>\n",
              "      <td>1.442611</td>\n",
              "      <td>5.622042</td>\n",
              "      <td>-73.904528</td>\n",
              "    </tr>\n",
              "    <tr>\n",
              "      <th>...</th>\n",
              "      <td>...</td>\n",
              "      <td>...</td>\n",
              "      <td>...</td>\n",
              "      <td>...</td>\n",
              "      <td>...</td>\n",
              "      <td>...</td>\n",
              "      <td>...</td>\n",
              "      <td>...</td>\n",
              "    </tr>\n",
              "    <tr>\n",
              "      <th>2741</th>\n",
              "      <td>OGLE-SMC-CEP-4967</td>\n",
              "      <td>00:56:34.60</td>\n",
              "      <td>-77:55:13.2</td>\n",
              "      <td>17.328</td>\n",
              "      <td>18.067</td>\n",
              "      <td>1.012830</td>\n",
              "      <td>14.144167</td>\n",
              "      <td>-77.920333</td>\n",
              "    </tr>\n",
              "    <tr>\n",
              "      <th>2749</th>\n",
              "      <td>OGLE-SMC-CEP-4983</td>\n",
              "      <td>01:50:40.50</td>\n",
              "      <td>-70:30:13.0</td>\n",
              "      <td>15.224</td>\n",
              "      <td>15.834</td>\n",
              "      <td>4.372303</td>\n",
              "      <td>27.668750</td>\n",
              "      <td>-70.503611</td>\n",
              "    </tr>\n",
              "    <tr>\n",
              "      <th>2750</th>\n",
              "      <td>OGLE-SMC-CEP-4985</td>\n",
              "      <td>01:56:47.74</td>\n",
              "      <td>-73:49:37.1</td>\n",
              "      <td>14.063</td>\n",
              "      <td>14.929</td>\n",
              "      <td>8.040087</td>\n",
              "      <td>29.198917</td>\n",
              "      <td>-73.826972</td>\n",
              "    </tr>\n",
              "    <tr>\n",
              "      <th>2752</th>\n",
              "      <td>OGLE-SMC-CEP-4987</td>\n",
              "      <td>03:31:34.40</td>\n",
              "      <td>-70:59:38.2</td>\n",
              "      <td>15.738</td>\n",
              "      <td>16.458</td>\n",
              "      <td>2.928475</td>\n",
              "      <td>52.893333</td>\n",
              "      <td>-70.993944</td>\n",
              "    </tr>\n",
              "    <tr>\n",
              "      <th>2753</th>\n",
              "      <td>OGLE-SMC-CEP-4988</td>\n",
              "      <td>00:48:12.68</td>\n",
              "      <td>-74:45:35.0</td>\n",
              "      <td>17.267</td>\n",
              "      <td>17.903</td>\n",
              "      <td>1.004043</td>\n",
              "      <td>12.052833</td>\n",
              "      <td>-74.759722</td>\n",
              "    </tr>\n",
              "  </tbody>\n",
              "</table>\n",
              "<p>2637 rows × 8 columns</p>\n",
              "</div>\n",
              "      <button class=\"colab-df-convert\" onclick=\"convertToInteractive('df-c0618141-e507-4343-b978-bbe1fefe1d59')\"\n",
              "              title=\"Convert this dataframe to an interactive table.\"\n",
              "              style=\"display:none;\">\n",
              "        \n",
              "  <svg xmlns=\"http://www.w3.org/2000/svg\" height=\"24px\"viewBox=\"0 0 24 24\"\n",
              "       width=\"24px\">\n",
              "    <path d=\"M0 0h24v24H0V0z\" fill=\"none\"/>\n",
              "    <path d=\"M18.56 5.44l.94 2.06.94-2.06 2.06-.94-2.06-.94-.94-2.06-.94 2.06-2.06.94zm-11 1L8.5 8.5l.94-2.06 2.06-.94-2.06-.94L8.5 2.5l-.94 2.06-2.06.94zm10 10l.94 2.06.94-2.06 2.06-.94-2.06-.94-.94-2.06-.94 2.06-2.06.94z\"/><path d=\"M17.41 7.96l-1.37-1.37c-.4-.4-.92-.59-1.43-.59-.52 0-1.04.2-1.43.59L10.3 9.45l-7.72 7.72c-.78.78-.78 2.05 0 2.83L4 21.41c.39.39.9.59 1.41.59.51 0 1.02-.2 1.41-.59l7.78-7.78 2.81-2.81c.8-.78.8-2.07 0-2.86zM5.41 20L4 18.59l7.72-7.72 1.47 1.35L5.41 20z\"/>\n",
              "  </svg>\n",
              "      </button>\n",
              "      \n",
              "  <style>\n",
              "    .colab-df-container {\n",
              "      display:flex;\n",
              "      flex-wrap:wrap;\n",
              "      gap: 12px;\n",
              "    }\n",
              "\n",
              "    .colab-df-convert {\n",
              "      background-color: #E8F0FE;\n",
              "      border: none;\n",
              "      border-radius: 50%;\n",
              "      cursor: pointer;\n",
              "      display: none;\n",
              "      fill: #1967D2;\n",
              "      height: 32px;\n",
              "      padding: 0 0 0 0;\n",
              "      width: 32px;\n",
              "    }\n",
              "\n",
              "    .colab-df-convert:hover {\n",
              "      background-color: #E2EBFA;\n",
              "      box-shadow: 0px 1px 2px rgba(60, 64, 67, 0.3), 0px 1px 3px 1px rgba(60, 64, 67, 0.15);\n",
              "      fill: #174EA6;\n",
              "    }\n",
              "\n",
              "    [theme=dark] .colab-df-convert {\n",
              "      background-color: #3B4455;\n",
              "      fill: #D2E3FC;\n",
              "    }\n",
              "\n",
              "    [theme=dark] .colab-df-convert:hover {\n",
              "      background-color: #434B5C;\n",
              "      box-shadow: 0px 1px 3px 1px rgba(0, 0, 0, 0.15);\n",
              "      filter: drop-shadow(0px 1px 2px rgba(0, 0, 0, 0.3));\n",
              "      fill: #FFFFFF;\n",
              "    }\n",
              "  </style>\n",
              "\n",
              "      <script>\n",
              "        const buttonEl =\n",
              "          document.querySelector('#df-c0618141-e507-4343-b978-bbe1fefe1d59 button.colab-df-convert');\n",
              "        buttonEl.style.display =\n",
              "          google.colab.kernel.accessAllowed ? 'block' : 'none';\n",
              "\n",
              "        async function convertToInteractive(key) {\n",
              "          const element = document.querySelector('#df-c0618141-e507-4343-b978-bbe1fefe1d59');\n",
              "          const dataTable =\n",
              "            await google.colab.kernel.invokeFunction('convertToInteractive',\n",
              "                                                     [key], {});\n",
              "          if (!dataTable) return;\n",
              "\n",
              "          const docLinkHtml = 'Like what you see? Visit the ' +\n",
              "            '<a target=\"_blank\" href=https://colab.research.google.com/notebooks/data_table.ipynb>data table notebook</a>'\n",
              "            + ' to learn more about interactive tables.';\n",
              "          element.innerHTML = '';\n",
              "          dataTable['output_type'] = 'display_data';\n",
              "          await google.colab.output.renderOutput(dataTable, element);\n",
              "          const docLink = document.createElement('div');\n",
              "          docLink.innerHTML = docLinkHtml;\n",
              "          element.appendChild(docLink);\n",
              "        }\n",
              "      </script>\n",
              "    </div>\n",
              "  </div>\n",
              "  "
            ]
          },
          "metadata": {},
          "execution_count": 21
        }
      ]
    },
    {
      "cell_type": "code",
      "source": [
        "#RA, Dec co-ordinates plot\n",
        "fig = plt.figure(figsize = (16,9))\n",
        "ax = fig.add_subplot(111, projection='mollweide')\n",
        "\n",
        "#Converting the RA range from 0 - 360 to -180 - 180\n",
        "ra_fixed = Cepheid_data['ra'].to_numpy()\n",
        "ra_fixed[ra_fixed > 180] = ra_fixed[ra_fixed > 180] - 360\n",
        "\n",
        "#Plotting needs to be done with input angles as radians. \n",
        "ax.scatter(ra_fixed*no.pi/180, Cepheid_data['dec']*no.pi/180, marker = 'o', s=20, color = 'red')\n",
        "plt.grid()"
      ],
      "metadata": {
        "colab": {
          "base_uri": "https://localhost:8080/",
          "height": 180
        },
        "id": "9jrhtNJHpzzy",
        "outputId": "60f47cbb-a4c1-40de-c52a-696e3cbafb20"
      },
      "execution_count": null,
      "outputs": [
        {
          "output_type": "display_data",
          "data": {
            "text/plain": [
              "<Figure size 1152x648 with 1 Axes>"
            ],
            "image/png": "[encoded data removed]"
          },
          "metadata": {
            "needs_background": "light"
          }
        }
      ]
    },
    {
      "cell_type": "code",
      "source": [
        "#P-L Diagrams\n",
        "fig = plt.figure(figsize = (16,9))\n",
        "\n",
        "#V band plot\n",
        "ax1 = fig.add_subplot(121)\n",
        "ax1.scatter(no.log(Cepheid_data['P_1']), Cepheid_data['V'], color = 'red', s = 0.8)\n",
        "ax1.set_title('SMC Cepheids V')\n",
        "ax1.set_ylim(21,12)\n",
        "ax1.set_xlabel('log(Period)')\n",
        "ax1.set_ylabel('Magnitude')\n",
        "ax1.grid()\n",
        "\n",
        "#I band plot\n",
        "ax2 = fig.add_subplot(122)\n",
        "ax2.scatter(no.log(Cepheid_data['P_1']), Cepheid_data['I'], color = 'blue', s = 0.8)\n",
        "ax2.set_title('SMC Cepheids I')\n",
        "ax2.set_ylim(21,12)\n",
        "ax2.set_xlabel('log(Period)')\n",
        "ax2.set_ylabel('Magnitude')\n",
        "ax2.grid()"
      ],
      "metadata": {
        "colab": {
          "base_uri": "https://localhost:8080/",
          "height": 206
        },
        "id": "LDUbZIRiqnqC",
        "outputId": "e131802f-1dda-4e6a-acf4-c64a0342ffde"
      },
      "execution_count": null,
      "outputs": [
        {
          "output_type": "display_data",
          "data": {
            "text/plain": [
              "<Figure size 1152x648 with 2 Axes>"
            ],
            "image/png": "[encoded data removed]"
          },
          "metadata": {
            "needs_background": "light"
          }
        }
      ]
    },
    {
      "cell_type": "code",
      "source": [
        "#Defining the linear fit function\n",
        "def lin(x, m, c):\n",
        "    return m*x+c\n",
        "\n",
        "band = ['V', 'I']\n",
        "color = ['red', 'blue']\n",
        "fig, axes = plt.subplots(1,2,figsize = (16,9))\n",
        "ZP = []\n",
        "\n",
        "#Curve fitting using the linear function to both V and I band and plotting the best fit line\n",
        "for i in range(2):\n",
        "    p_opt, p_cov = curve_fit(lin, no.log(Cepheid_data['P_1']), Cepheid_data[band[i]])\n",
        "    axes[i].scatter(no.log(Cepheid_data['P_1']), Cepheid_data[band[i]], color = color[i], s = 0.8)\n",
        "    axes[i].plot(no.log(Cepheid_data['P_1']), lin(no.log(Cepheid_data['P_1']), *p_opt), color = 'black')\n",
        "    axes[i].set_ylim(21,11.5)\n",
        "    axes[i].grid()\n",
        "    axes[i].set_title('SMC Cepheid '+band[i])\n",
        "    axes[i].set_xlabel('log(Period)')\n",
        "    axes[i].set_ylabel('Magnitude')\n",
        "    ZP.append(p_opt[1])\n",
        "ZP"
      ],
      "metadata": {
        "colab": {
          "base_uri": "https://localhost:8080/",
          "height": 241
        },
        "id": "gUhzTORqrZa6",
        "outputId": "256c7c51-df1b-4b72-8fb0-740fe073882b"
      },
      "execution_count": null,
      "outputs": [
        {
          "output_type": "execute_result",
          "data": {
            "text/plain": [
              "[17.98537783574373, 17.392207055244064]"
            ]
          },
          "metadata": {},
          "execution_count": 27
        },
        {
          "output_type": "display_data",
          "data": {
            "text/plain": [
              "<Figure size 1152x648 with 2 Axes>"
            ],
            "image/png": "[encoded data removed]"
          },
          "metadata": {
            "needs_background": "light"
          }
        }
      ]
    },
    {
      "cell_type": "code",
      "source": [
        ""
      ],
      "metadata": {
        "id": "ZlVThdhdsYOx"
      },
      "execution_count": null,
      "outputs": []
    }
  ]
}